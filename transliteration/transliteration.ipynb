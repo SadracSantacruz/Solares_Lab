import pandas as pd
import re

!git clone https://github.com/pandrew99/transcript

f = open("transcript/mymp3s.txt", "r")
print(f.read())