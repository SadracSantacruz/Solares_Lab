{
 "cells": [
  {
   "cell_type": "code",
   "execution_count": 12,
   "metadata": {},
   "outputs": [],
   "source": [
    "from pydub import AudioSegment\n",
    "from pydub.silence import split_on_silence"
   ]
  },
  {
   "cell_type": "code",
   "execution_count": 19,
   "metadata": {},
   "outputs": [],
   "source": [
    "from pydub import AudioSegment\n",
    "\n",
    "def convert_mp3_to_wav(mp3_path, wav_path=None):\n",
    "    \"\"\"\n",
    "    Convert an MP3 file to WAV format.\n",
    "\n",
    "    Parameters:\n",
    "    - mp3_path (str): The path to the input MP3 file.\n",
    "    - wav_path (str): The path to save the output WAV file. If not provided, it will be saved in the same directory as the MP3 file.\n",
    "    \"\"\"\n",
    "    # Load MP3 file using pydub\n",
    "    audio = AudioSegment.from_mp3(mp3_path)\n",
    "\n",
    "    # Set the WAV file path\n",
    "    if wav_path is None:\n",
    "        # If wav_path is not provided, use the same directory as the MP3 file\n",
    "        wav_path = mp3_path.replace(\".mp3\", \".wav\")\n",
    "\n",
    "    # Export the audio to WAV\n",
    "    audio.export(wav_path, format=\"wav\")\n",
    "\n",
    "    print(f\"Conversion completed. WAV file saved at: {wav_path}\")\n",
    "    return wav_path\n"
   ]
  },
  {
   "cell_type": "code",
   "execution_count": 32,
   "metadata": {},
   "outputs": [],
   "source": [
    "\n",
    "\n",
    "def segment_audio_by_silence(audio_path, silence_threshold=-40):\n",
    "    \"\"\"\n",
    "    Segment audio by silence.\n",
    "\n",
    "    Parameters:\n",
    "    - audio_path (str): The path to the input audio file.\n",
    "    - silence_threshold (int): The silence threshold in decibels. Default is -40 dB.\n",
    "\n",
    "    Returns:\n",
    "    - list: A list of tuples representing the start and end times of each segment.\n",
    "    \"\"\"\n",
    "    # Load audio file using pydub\n",
    "    audio = AudioSegment.from_file(audio_path)\n",
    "\n",
    "    # Split audio on silence\n",
    "    segments = split_on_silence(audio, silence_thresh=silence_threshold)\n",
    "\n",
    "    # Output the start and end times of each segment\n",
    "    #segment_times = [(segment[0].start / 1000, segment[-1].end / 1000) for segment in segments]\n",
    "    print(segments)\n",
    "\n",
    "    #return segment_times\n",
    "\n"
   ]
  },
  {
   "cell_type": "code",
   "execution_count": 33,
   "metadata": {},
   "outputs": [
    {
     "name": "stdout",
     "output_type": "stream",
     "text": [
      "Conversion completed. WAV file saved at: audios/2a.wav\n",
      "[<pydub.audio_segment.AudioSegment object at 0x126bd11d0>, <pydub.audio_segment.AudioSegment object at 0x12013aa50>, <pydub.audio_segment.AudioSegment object at 0x126904550>, <pydub.audio_segment.AudioSegment object at 0x12015c810>]\n"
     ]
    },
    {
     "ename": "TypeError",
     "evalue": "'NoneType' object is not iterable",
     "output_type": "error",
     "traceback": [
      "\u001b[0;31m---------------------------------------------------------------------------\u001b[0m",
      "\u001b[0;31mTypeError\u001b[0m                                 Traceback (most recent call last)",
      "\u001b[1;32m/Users/sadrac/Desktop/Files/Research Solares/test.ipynb Cell 4\u001b[0m line \u001b[0;36m9\n\u001b[1;32m      <a href='vscode-notebook-cell:/Users/sadrac/Desktop/Files/Research%20Solares/test.ipynb#W3sZmlsZQ%3D%3D?line=3'>4</a>\u001b[0m segment_times \u001b[39m=\u001b[39m segment_audio_by_silence(converted_wav)\n\u001b[1;32m      <a href='vscode-notebook-cell:/Users/sadrac/Desktop/Files/Research%20Solares/test.ipynb#W3sZmlsZQ%3D%3D?line=5'>6</a>\u001b[0m \u001b[39m# Output the segment times\u001b[39;00m\n\u001b[1;32m      <a href='vscode-notebook-cell:/Users/sadrac/Desktop/Files/Research%20Solares/test.ipynb#W3sZmlsZQ%3D%3D?line=6'>7</a>\u001b[0m \u001b[39m#print(\"Segment times:\", segment_times)\u001b[39;00m\n\u001b[1;32m      <a href='vscode-notebook-cell:/Users/sadrac/Desktop/Files/Research%20Solares/test.ipynb#W3sZmlsZQ%3D%3D?line=7'>8</a>\u001b[0m \u001b[39m# Output the duration of each segment\u001b[39;00m\n\u001b[0;32m----> <a href='vscode-notebook-cell:/Users/sadrac/Desktop/Files/Research%20Solares/test.ipynb#W3sZmlsZQ%3D%3D?line=8'>9</a>\u001b[0m \u001b[39mfor\u001b[39;00m i, segment_time \u001b[39min\u001b[39;00m \u001b[39menumerate\u001b[39m(segment_times):\n\u001b[1;32m     <a href='vscode-notebook-cell:/Users/sadrac/Desktop/Files/Research%20Solares/test.ipynb#W3sZmlsZQ%3D%3D?line=9'>10</a>\u001b[0m     start_time, end_time \u001b[39m=\u001b[39m segment_time\n\u001b[1;32m     <a href='vscode-notebook-cell:/Users/sadrac/Desktop/Files/Research%20Solares/test.ipynb#W3sZmlsZQ%3D%3D?line=10'>11</a>\u001b[0m     duration \u001b[39m=\u001b[39m end_time \u001b[39m-\u001b[39m start_time\n",
      "\u001b[0;31mTypeError\u001b[0m: 'NoneType' object is not iterable"
     ]
    }
   ],
   "source": [
    "if __name__ == \"__main__\":\n",
    "    audio_path = \"audios/2a.mp3\"\n",
    "    converted_wav = convert_mp3_to_wav(audio_path)\n",
    "    segment_times = segment_audio_by_silence(converted_wav)\n",
    "\n",
    "    # Output the segment times\n",
    "    #print(\"Segment times:\", segment_times)\n",
    "    # Output the duration of each segment\n",
    "    for i, segment_time in enumerate(segment_times):\n",
    "        start_time, end_time = segment_time\n",
    "        duration = end_time - start_time\n",
    "        print(f\"Segment {i + 1} Duration: {duration:.2f} seconds\")\n"
   ]
  },
  {
   "cell_type": "code",
   "execution_count": null,
   "metadata": {},
   "outputs": [],
   "source": []
  }
 ],
 "metadata": {
  "kernelspec": {
   "display_name": "base",
   "language": "python",
   "name": "python3"
  },
  "language_info": {
   "codemirror_mode": {
    "name": "ipython",
    "version": 3
   },
   "file_extension": ".py",
   "mimetype": "text/x-python",
   "name": "python",
   "nbconvert_exporter": "python",
   "pygments_lexer": "ipython3",
   "version": "3.11.5"
  }
 },
 "nbformat": 4,
 "nbformat_minor": 2
}
